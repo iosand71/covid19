{
 "cells": [
  {
   "cell_type": "markdown",
   "metadata": {},
   "source": [
    "# Dati Coronavirus Internazionali"
   ]
  },
  {
   "cell_type": "code",
   "execution_count": null,
   "metadata": {
    "hide_input": true
   },
   "outputs": [],
   "source": [
    "import pandas as pd\n",
    "import numpy as np\n",
    "from datetime import datetime,timedelta\n",
    "from dateutil import relativedelta\n",
    "from IPython.display import Markdown\n",
    "import plotly.express as px\n",
    "import plotly.io as pio\n",
    "import dateutil.relativedelta\n",
    "\n",
    "pio.renderers.default = 'notebook_connected'\n",
    "pio.templates.default = \"simple_white+gridon\"\n",
    "plt_config = {'scrollZoom':False}"
   ]
  },
  {
   "cell_type": "code",
   "execution_count": null,
   "metadata": {},
   "outputs": [],
   "source": [
    "who_url = \"https://covid19.who.int/WHO-COVID-19-global-data.csv\"\n",
    "who = pd.read_csv(who_url, parse_dates=['Date_reported'], \n",
    "                   index_col='Date_reported')\n"
   ]
  },
  {
   "cell_type": "code",
   "execution_count": null,
   "metadata": {
    "scrolled": false
   },
   "outputs": [],
   "source": [
    "who = who.rename(columns={' Country_code':'country_code', \n",
    "                          ' Country':'country',\n",
    "                          ' WHO_region':'region',\n",
    "                          ' New_cases':'new_cases',\n",
    "                          ' Cumulative_cases':'cases',\n",
    "                          ' New_deaths':'new_deaths',\n",
    "                          ' Cumulative_deaths':'deaths'})\n",
    "updated_at = who.index.max()"
   ]
  },
  {
   "cell_type": "code",
   "execution_count": null,
   "metadata": {},
   "outputs": [],
   "source": [
    "display(Markdown(f\"### *Aggiornamento al {updated_at:%d/%m/%Y}*\"))\n",
    "\n",
    "cases = who.new_cases.resample('D').sum()\n",
    "deaths = who.new_deaths.resample('D').sum()\n",
    "display(Markdown(f\"\"\"\n",
    "\n",
    "*Casi totali*: **{cases.sum():,d}**, *Decessi totali*: **{deaths.sum():,d}**\n",
    "\n",
    "\"\"\"))\n",
    "totals = pd.DataFrame(data={'cases': cases, 'deaths': deaths})\n",
    "fig = px.bar(totals, title=\"andamento totale casi e decessi\")\n",
    "fig.update_xaxes(rangeslider_visible=True, title='Data')\n",
    "fig.update_yaxes(title='Numero persone')\n",
    "fig.show(config = plt_config)"
   ]
  },
  {
   "cell_type": "code",
   "execution_count": null,
   "metadata": {
    "scrolled": false
   },
   "outputs": [],
   "source": [
    "cases_by_country = who.groupby(\"country\").last().nlargest(20, columns=['cases']).cases\n",
    "deaths_by_country = who.groupby(\"country\").last().nlargest(20, columns=['deaths']).deaths\n",
    "fig = px.bar(cases_by_country, title='casi per nazione')\n",
    "fig.update_layout(showlegend=False, yaxis_fixedrange = True )\n",
    "fig.update_xaxes(title='Nazione')\n",
    "fig.update_yaxes(title='Numero casi')\n",
    "\n",
    "fig.show(config=plt_config)"
   ]
  },
  {
   "cell_type": "code",
   "execution_count": null,
   "metadata": {
    "scrolled": false
   },
   "outputs": [],
   "source": [
    "fig = px.bar(deaths_by_country, title='decessi per nazione')\n",
    "fig.update_layout(showlegend=False, yaxis_fixedrange = True )\n",
    "fig.update_xaxes(title='Nazione')\n",
    "fig.update_yaxes(title='Numero decessi')\n",
    "fig.show(config = plt_config)"
   ]
  },
  {
   "cell_type": "code",
   "execution_count": null,
   "metadata": {
    "scrolled": false
   },
   "outputs": [],
   "source": [
    "today = datetime.now()\n",
    "last_month = today - dateutil.relativedelta.relativedelta(months=1)\n",
    "last = who[who.index > last_month].query('new_cases>1000').sort_values('new_cases', ascending=False)\n",
    "fig = px.bar(last, x=last.index, y=last.new_cases, color='country', \n",
    "       title='casi > 1.000 per giorno (ultimo mese)')\n",
    "fig.update_xaxes(title='Data')\n",
    "fig.update_yaxes(title='Numero casi')\n",
    "\n",
    "fig.show(config = plt_config)"
   ]
  },
  {
   "cell_type": "code",
   "execution_count": null,
   "metadata": {},
   "outputs": [],
   "source": [
    "last = who[who.index > last_month].query('new_deaths>300').sort_values('new_deaths', ascending=False)\n",
    "fig = px.bar(last, x=last.index, y=last.new_deaths, color='country', \n",
    "       title='decessi > 300 per giorno (ultimo mese)')\n",
    "fig.update_xaxes(title='Data')\n",
    "fig.update_yaxes(title='Numero decessi')\n",
    "\n",
    "fig.show(config = plt_config)"
   ]
  },
  {
   "cell_type": "markdown",
   "metadata": {},
   "source": [
    "*fonte*: [Dati WHO](https://covid19.who.int/WHO-COVID-19-global-data.csv)"
   ]
  }
 ],
 "metadata": {
  "hide_input": true,
  "kernelspec": {
   "display_name": "Python 3",
   "language": "python",
   "name": "python3"
  },
  "language_info": {
   "codemirror_mode": {
    "name": "ipython",
    "version": 3
   },
   "file_extension": ".py",
   "mimetype": "text/x-python",
   "name": "python",
   "nbconvert_exporter": "python",
   "pygments_lexer": "ipython3",
   "version": "3.8.5"
  }
 },
 "nbformat": 4,
 "nbformat_minor": 2
}
